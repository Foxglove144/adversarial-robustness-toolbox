{
  "cells": [
    {
      "cell_type": "markdown",
      "metadata": {
        "id": "u5Vieglo4OfM"
      },
      "source": [
        "# Adversarial Robustness Toolbox (ART) and scikit-learn Pipeline"
      ]
    },
    {
      "cell_type": "markdown",
      "metadata": {
        "id": "ZBQJ8mdl4OfO"
      },
      "source": [
        "This notebook contains an example of generating adversarial samples using a black-box attack against a scikit-learn pipeline consisting of principal component analysis (PCA) and a support vector machine classifier (SVC), but any other valid pipeline would work too. The pipeline is first optimised using grid search with cross validation. The adversarial samples are created with black-box `HopSkipJump` attack. The training data is MNIST, because of its intuitive visualisation, but any other dataset including tabular data would be suitable too."
      ]
    },
    {
      "cell_type": "code",
      "execution_count": 2,
      "metadata": {
        "id": "9gRuus0B4OfO"
      },
      "outputs": [],
      "source": [
        "import numpy as np\n",
        "import matplotlib.pyplot as plt\n",
        "\n",
        "from sklearn import datasets\n",
        "from sklearn.decomposition import PCA\n",
        "from sklearn.svm import SVC\n",
        "from sklearn.pipeline import Pipeline\n",
        "from sklearn.model_selection import GridSearchCV\n",
        "\n",
        "from art.utils import load_dataset\n",
        "from art.estimators.classification import SklearnClassifier\n",
        "from art.attacks.evasion import HopSkipJump\n",
        "\n",
        "import warnings\n",
        "warnings.filterwarnings('ignore')"
      ]
    },
    {
      "cell_type": "markdown",
      "metadata": {
        "id": "5DP1mFTp4OfP"
      },
      "source": [
        "## Load the training and testing dataset"
      ]
    },
    {
      "cell_type": "code",
      "execution_count": 3,
      "metadata": {
        "id": "VxhfwWEW4OfP"
      },
      "outputs": [],
      "source": [
        "n_features = 28*28\n",
        "(x_train, y_train), (x_test, y_test), _, _ = load_dataset('mnist')\n",
        "x_train = x_train.reshape((x_train.shape[0], n_features))\n",
        "x_test = x_test.reshape((x_test.shape[0], n_features))\n",
        "y_train = np.argmax(y_train, axis=1)\n",
        "y_test = np.argmax(y_test, axis=1)\n",
        "\n",
        "# Select a smaller set of samples to accelerate notebook example, remove for higher accuracy\n",
        "x_train = x_train[0:1000]\n",
        "x_test = x_test[0:100]\n",
        "y_train = y_train[0:1000]\n",
        "y_test = y_test[0:100]"
      ]
    },
    {
      "cell_type": "markdown",
      "metadata": {
        "id": "Tx0XKizL4OfP"
      },
      "source": [
        "## Create a pipeline containing PCA and SVC classifier"
      ]
    },
    {
      "cell_type": "code",
      "execution_count": 4,
      "metadata": {
        "id": "FBMecgGI4OfR"
      },
      "outputs": [],
      "source": [
        "svc = SVC(C=1.0, kernel='rbf')\n",
        "pca = PCA()\n",
        "pipeline = Pipeline(steps=[('pca', pca), ('svc', svc)])"
      ]
    },
    {
      "cell_type": "markdown",
      "metadata": {
        "id": "tRQQFhBo4OfR"
      },
      "source": [
        "## Grid search and cross validation to optimise number of PCA components and error term penalty"
      ]
    },
    {
      "cell_type": "code",
      "execution_count": 6,
      "metadata": {
        "colab": {
          "base_uri": "https://localhost:8080/"
        },
        "id": "a5vmM-SQ4OfR",
        "outputId": "e619d90c-aad2-44e9-f043-2ff1162a53f7"
      },
      "outputs": [
        {
          "output_type": "stream",
          "name": "stdout",
          "text": [
            "Best parameter (CV score=0.909):\n",
            "{'pca__n_components': 30, 'svc__C': 100.0}\n"
          ]
        }
      ],
      "source": [
        "param_grid = {'pca__n_components': [5, 20, 30, 40, 50, 64],\n",
        "              'svc__C': np.logspace(-4, 4, 5)}\n",
        "search = GridSearchCV(estimator=pipeline, param_grid=param_grid, cv=5)\n",
        "search.fit(x_train, y_train)\n",
        "print(\"Best parameter (CV score=%0.3f):\" % search.best_score_)\n",
        "print(search.best_params_)"
      ]
    },
    {
      "cell_type": "markdown",
      "metadata": {
        "id": "4xFvGoJm4OfS"
      },
      "source": [
        "## Create a black-box attack using ART"
      ]
    },
    {
      "cell_type": "code",
      "execution_count": 7,
      "metadata": {
        "id": "hgi9m0VH4OfS"
      },
      "outputs": [],
      "source": [
        "classifier = SklearnClassifier(model=search.best_estimator_)\n",
        "attack = HopSkipJump(classifier=classifier, targeted=False, norm=np.inf, max_iter=100, max_eval=100,\n",
        "                     init_eval=100, init_size=100)"
      ]
    },
    {
      "cell_type": "markdown",
      "metadata": {
        "id": "VL1oo-Pe4OfS"
      },
      "source": [
        "## Generate adversarial samples"
      ]
    },
    {
      "cell_type": "code",
      "execution_count": 8,
      "metadata": {
        "colab": {
          "base_uri": "https://localhost:8080/",
          "height": 49,
          "referenced_widgets": [
            "48331fd9c5d44364abe7df7072b157cb",
            "7fe24bea34e94c268351965fb0ccbe6d",
            "ba0d957416cc4173a66ceb23073d7006",
            "b0ad11550cec4ccfb2e530670dabeb67",
            "fcd4db8e881f47eb8a410865105d7552",
            "665f4b4aa86040e8a6b2d6df101c9359",
            "68fa4e59481f4e88a11294ffeae79240",
            "c1863946acdd4c9499de89eaace99ddd",
            "9ac06440684b4b999e682bbd9cfd0f11",
            "5cd721f9975c44689948ddf61cd4ce11",
            "7b01514cecdf439795cbd672222fef1d"
          ]
        },
        "id": "QuOYFvSl4OfS",
        "outputId": "e10eb6db-6acc-47d5-e654-b72376d33374"
      },
      "outputs": [
        {
          "output_type": "display_data",
          "data": {
            "text/plain": [
              "HopSkipJump:   0%|          | 0/100 [00:00<?, ?it/s]"
            ],
            "application/vnd.jupyter.widget-view+json": {
              "version_major": 2,
              "version_minor": 0,
              "model_id": "48331fd9c5d44364abe7df7072b157cb"
            }
          },
          "metadata": {}
        }
      ],
      "source": [
        "x_test_adv = attack.generate(x_test)"
      ]
    },
    {
      "cell_type": "markdown",
      "metadata": {
        "id": "0zNopdD64OfT"
      },
      "source": [
        "## Evaluate benign accuracy"
      ]
    },
    {
      "cell_type": "code",
      "execution_count": 9,
      "metadata": {
        "colab": {
          "base_uri": "https://localhost:8080/"
        },
        "id": "zQYXRO5t4OfT",
        "outputId": "1f59aaf6-e4d5-4fd8-e8ca-d0b87888c9b8"
      },
      "outputs": [
        {
          "output_type": "stream",
          "name": "stdout",
          "text": [
            "Accuracy on benign test samples 96.0%:\n"
          ]
        }
      ],
      "source": [
        "accuracy_test_benign = search.score(x_test, y_test)\n",
        "print('Accuracy on benign test samples {}%:'.format(accuracy_test_benign * 100))"
      ]
    },
    {
      "cell_type": "markdown",
      "metadata": {
        "id": "zutjYjbv4OfT"
      },
      "source": [
        "## Evaluate adversarial accuracy"
      ]
    },
    {
      "cell_type": "code",
      "execution_count": 10,
      "metadata": {
        "colab": {
          "base_uri": "https://localhost:8080/"
        },
        "id": "e1x5Fddr4OfT",
        "outputId": "b6aa25bd-64a6-4d52-d6af-81d8666d2fa4"
      },
      "outputs": [
        {
          "output_type": "stream",
          "name": "stdout",
          "text": [
            "Accuracy on adversarial test samples 2.0%:\n"
          ]
        }
      ],
      "source": [
        "accuracy_test_adversarial = search.score(x_test_adv, y_test)\n",
        "print('Accuracy on adversarial test samples {}%:'.format(accuracy_test_adversarial * 100))"
      ]
    },
    {
      "cell_type": "markdown",
      "metadata": {
        "id": "LWP3nUjV4OfT"
      },
      "source": [
        "## Inspect a benign test sample"
      ]
    },
    {
      "cell_type": "code",
      "execution_count": 11,
      "metadata": {
        "colab": {
          "base_uri": "https://localhost:8080/",
          "height": 437
        },
        "id": "Hbc59sYE4OfT",
        "outputId": "14b2df8d-8b6c-4504-ce11-3e4efb841dcd"
      },
      "outputs": [
        {
          "output_type": "display_data",
          "data": {
            "text/plain": [
              "<Figure size 480x480 with 1 Axes>"
            ],
            "image/png": "[encoded data removed]"
          },
          "metadata": {}
        }
      ],
      "source": [
        "plt.matshow(x_test[0].reshape((28, 28)));"
      ]
    },
    {
      "cell_type": "code",
      "execution_count": 12,
      "metadata": {
        "colab": {
          "base_uri": "https://localhost:8080/"
        },
        "id": "kCcIc0Cx4OfT",
        "outputId": "a66609e1-d735-4515-fdf2-318502ec4519"
      },
      "outputs": [
        {
          "output_type": "stream",
          "name": "stdout",
          "text": [
            "Predicted label: 7\n"
          ]
        }
      ],
      "source": [
        "print('Predicted label:', search.predict(x_test[0:1])[0])"
      ]
    },
    {
      "cell_type": "markdown",
      "metadata": {
        "id": "uBsw_7KO4OfT"
      },
      "source": [
        "## Inspect an adversarial test sample"
      ]
    },
    {
      "cell_type": "code",
      "execution_count": 13,
      "metadata": {
        "colab": {
          "base_uri": "https://localhost:8080/",
          "height": 437
        },
        "id": "oTIffM7n4OfT",
        "outputId": "c1cf4b2e-e59e-48ec-dec9-01bc0643c4f7"
      },
      "outputs": [
        {
          "output_type": "display_data",
          "data": {
            "text/plain": [
              "<Figure size 480x480 with 1 Axes>"
            ],
            "image/png": "[encoded data removed]"
          },
          "metadata": {}
        }
      ],
      "source": [
        "plt.matshow(x_test_adv[0].reshape((28, 28)));"
      ]
    },
    {
      "cell_type": "code",
      "execution_count": 14,
      "metadata": {
        "colab": {
          "base_uri": "https://localhost:8080/"
        },
        "id": "TVKzn06M4OfU",
        "outputId": "02b35f3e-a2e6-47bf-89d1-24f60de9592f"
      },
      "outputs": [
        {
          "output_type": "stream",
          "name": "stdout",
          "text": [
            "Predicted label: 3\n"
          ]
        }
      ],
      "source": [
        "print('Predicted label:', search.predict(x_test_adv[0:1])[0])"
      ]
    },
    {
      "cell_type": "code",
      "execution_count": 15,
      "metadata": {
        "colab": {
          "base_uri": "https://localhost:8080/"
        },
        "id": "Rr0dOm-X4OfU",
        "outputId": "fc99c080-076b-4575-a199-8401f707040b"
      },
      "outputs": [
        {
          "output_type": "stream",
          "name": "stdout",
          "text": [
            "L_Infinity-norm: 0.22557301743357788\n"
          ]
        }
      ],
      "source": [
        "print('L_Infinity-norm:', np.linalg.norm(x_test_adv[0] - x_test[0], ord=np.inf))"
      ]
    },
    {
      "cell_type": "code",
      "execution_count": 15,
      "metadata": {
        "id": "eAcx4kpu4OfU"
      },
      "outputs": [],
      "source": []
    }
  ],
  "metadata": {
    "kernelspec": {
      "display_name": "py37_tf220",
      "language": "python",
      "name": "py37_tf220"
    },
    "language_info": {
      "codemirror_mode": {
        "name": "ipython",
        "version": 3
      },
      "file_extension": ".py",
      "mimetype": "text/x-python",
      "name": "python",
      "nbconvert_exporter": "python",
      "pygments_lexer": "ipython3",
      "version": "3.7.6"
    },
    "colab": {
      "provenance": []
    },
    "widgets": {
      "application/vnd.jupyter.widget-state+json": {
        "48331fd9c5d44364abe7df7072b157cb": {
          "model_module": "@jupyter-widgets/controls",
          "model_name": "HBoxModel",
          "model_module_version": "1.5.0",
          "state": {
            "_dom_classes": [],
            "_model_module": "@jupyter-widgets/controls",
            "_model_module_version": "1.5.0",
            "_model_name": "HBoxModel",
            "_view_count": null,
            "_view_module": "@jupyter-widgets/controls",
            "_view_module_version": "1.5.0",
            "_view_name": "HBoxView",
            "box_style": "",
            "children": [
              "IPY_MODEL_7fe24bea34e94c268351965fb0ccbe6d",
              "IPY_MODEL_ba0d957416cc4173a66ceb23073d7006",
              "IPY_MODEL_b0ad11550cec4ccfb2e530670dabeb67"
            ],
            "layout": "IPY_MODEL_fcd4db8e881f47eb8a410865105d7552"
          }
        },
        "7fe24bea34e94c268351965fb0ccbe6d": {
          "model_module": "@jupyter-widgets/controls",
          "model_name": "HTMLModel",
          "model_module_version": "1.5.0",
          "state": {
            "_dom_classes": [],
            "_model_module": "@jupyter-widgets/controls",
            "_model_module_version": "1.5.0",
            "_model_name": "HTMLModel",
            "_view_count": null,
            "_view_module": "@jupyter-widgets/controls",
            "_view_module_version": "1.5.0",
            "_view_name": "HTMLView",
            "description": "",
            "description_tooltip": null,
            "layout": "IPY_MODEL_665f4b4aa86040e8a6b2d6df101c9359",
            "placeholder": "​",
            "style": "IPY_MODEL_68fa4e59481f4e88a11294ffeae79240",
            "value": "HopSkipJump: 100%"
          }
        },
        "ba0d957416cc4173a66ceb23073d7006": {
          "model_module": "@jupyter-widgets/controls",
          "model_name": "FloatProgressModel",
          "model_module_version": "1.5.0",
          "state": {
            "_dom_classes": [],
            "_model_module": "@jupyter-widgets/controls",
            "_model_module_version": "1.5.0",
            "_model_name": "FloatProgressModel",
            "_view_count": null,
            "_view_module": "@jupyter-widgets/controls",
            "_view_module_version": "1.5.0",
            "_view_name": "ProgressView",
            "bar_style": "success",
            "description": "",
            "description_tooltip": null,
            "layout": "IPY_MODEL_c1863946acdd4c9499de89eaace99ddd",
            "max": 100,
            "min": 0,
            "orientation": "horizontal",
            "style": "IPY_MODEL_9ac06440684b4b999e682bbd9cfd0f11",
            "value": 100
          }
        },
        "b0ad11550cec4ccfb2e530670dabeb67": {
          "model_module": "@jupyter-widgets/controls",
          "model_name": "HTMLModel",
          "model_module_version": "1.5.0",
          "state": {
            "_dom_classes": [],
            "_model_module": "@jupyter-widgets/controls",
            "_model_module_version": "1.5.0",
            "_model_name": "HTMLModel",
            "_view_count": null,
            "_view_module": "@jupyter-widgets/controls",
            "_view_module_version": "1.5.0",
            "_view_name": "HTMLView",
            "description": "",
            "description_tooltip": null,
            "layout": "IPY_MODEL_5cd721f9975c44689948ddf61cd4ce11",
            "placeholder": "​",
            "style": "IPY_MODEL_7b01514cecdf439795cbd672222fef1d",
            "value": " 100/100 [06:13&lt;00:00,  3.52s/it]"
          }
        },
        "fcd4db8e881f47eb8a410865105d7552": {
          "model_module": "@jupyter-widgets/base",
          "model_name": "LayoutModel",
          "model_module_version": "1.2.0",
          "state": {
            "_model_module": "@jupyter-widgets/base",
            "_model_module_version": "1.2.0",
            "_model_name": "LayoutModel",
            "_view_count": null,
            "_view_module": "@jupyter-widgets/base",
            "_view_module_version": "1.2.0",
            "_view_name": "LayoutView",
            "align_content": null,
            "align_items": null,
            "align_self": null,
            "border": null,
            "bottom": null,
            "display": null,
            "flex": null,
            "flex_flow": null,
            "grid_area": null,
            "grid_auto_columns": null,
            "grid_auto_flow": null,
            "grid_auto_rows": null,
            "grid_column": null,
            "grid_gap": null,
            "grid_row": null,
            "grid_template_areas": null,
            "grid_template_columns": null,
            "grid_template_rows": null,
            "height": null,
            "justify_content": null,
            "justify_items": null,
            "left": null,
            "margin": null,
            "max_height": null,
            "max_width": null,
            "min_height": null,
            "min_width": null,
            "object_fit": null,
            "object_position": null,
            "order": null,
            "overflow": null,
            "overflow_x": null,
            "overflow_y": null,
            "padding": null,
            "right": null,
            "top": null,
            "visibility": null,
            "width": null
          }
        },
        "665f4b4aa86040e8a6b2d6df101c9359": {
          "model_module": "@jupyter-widgets/base",
          "model_name": "LayoutModel",
          "model_module_version": "1.2.0",
          "state": {
            "_model_module": "@jupyter-widgets/base",
            "_model_module_version": "1.2.0",
            "_model_name": "LayoutModel",
            "_view_count": null,
            "_view_module": "@jupyter-widgets/base",
            "_view_module_version": "1.2.0",
            "_view_name": "LayoutView",
            "align_content": null,
            "align_items": null,
            "align_self": null,
            "border": null,
            "bottom": null,
            "display": null,
            "flex": null,
            "flex_flow": null,
            "grid_area": null,
            "grid_auto_columns": null,
            "grid_auto_flow": null,
            "grid_auto_rows": null,
            "grid_column": null,
            "grid_gap": null,
            "grid_row": null,
            "grid_template_areas": null,
            "grid_template_columns": null,
            "grid_template_rows": null,
            "height": null,
            "justify_content": null,
            "justify_items": null,
            "left": null,
            "margin": null,
            "max_height": null,
            "max_width": null,
            "min_height": null,
            "min_width": null,
            "object_fit": null,
            "object_position": null,
            "order": null,
            "overflow": null,
            "overflow_x": null,
            "overflow_y": null,
            "padding": null,
            "right": null,
            "top": null,
            "visibility": null,
            "width": null
          }
        },
        "68fa4e59481f4e88a11294ffeae79240": {
          "model_module": "@jupyter-widgets/controls",
          "model_name": "DescriptionStyleModel",
          "model_module_version": "1.5.0",
          "state": {
            "_model_module": "@jupyter-widgets/controls",
            "_model_module_version": "1.5.0",
            "_model_name": "DescriptionStyleModel",
            "_view_count": null,
            "_view_module": "@jupyter-widgets/base",
            "_view_module_version": "1.2.0",
            "_view_name": "StyleView",
            "description_width": ""
          }
        },
        "c1863946acdd4c9499de89eaace99ddd": {
          "model_module": "@jupyter-widgets/base",
          "model_name": "LayoutModel",
          "model_module_version": "1.2.0",
          "state": {
            "_model_module": "@jupyter-widgets/base",
            "_model_module_version": "1.2.0",
            "_model_name": "LayoutModel",
            "_view_count": null,
            "_view_module": "@jupyter-widgets/base",
            "_view_module_version": "1.2.0",
            "_view_name": "LayoutView",
            "align_content": null,
            "align_items": null,
            "align_self": null,
            "border": null,
            "bottom": null,
            "display": null,
            "flex": null,
            "flex_flow": null,
            "grid_area": null,
            "grid_auto_columns": null,
            "grid_auto_flow": null,
            "grid_auto_rows": null,
            "grid_column": null,
            "grid_gap": null,
            "grid_row": null,
            "grid_template_areas": null,
            "grid_template_columns": null,
            "grid_template_rows": null,
            "height": null,
            "justify_content": null,
            "justify_items": null,
            "left": null,
            "margin": null,
            "max_height": null,
            "max_width": null,
            "min_height": null,
            "min_width": null,
            "object_fit": null,
            "object_position": null,
            "order": null,
            "overflow": null,
            "overflow_x": null,
            "overflow_y": null,
            "padding": null,
            "right": null,
            "top": null,
            "visibility": null,
            "width": null
          }
        },
        "9ac06440684b4b999e682bbd9cfd0f11": {
          "model_module": "@jupyter-widgets/controls",
          "model_name": "ProgressStyleModel",
          "model_module_version": "1.5.0",
          "state": {
            "_model_module": "@jupyter-widgets/controls",
            "_model_module_version": "1.5.0",
            "_model_name": "ProgressStyleModel",
            "_view_count": null,
            "_view_module": "@jupyter-widgets/base",
            "_view_module_version": "1.2.0",
            "_view_name": "StyleView",
            "bar_color": null,
            "description_width": ""
          }
        },
        "5cd721f9975c44689948ddf61cd4ce11": {
          "model_module": "@jupyter-widgets/base",
          "model_name": "LayoutModel",
          "model_module_version": "1.2.0",
          "state": {
            "_model_module": "@jupyter-widgets/base",
            "_model_module_version": "1.2.0",
            "_model_name": "LayoutModel",
            "_view_count": null,
            "_view_module": "@jupyter-widgets/base",
            "_view_module_version": "1.2.0",
            "_view_name": "LayoutView",
            "align_content": null,
            "align_items": null,
            "align_self": null,
            "border": null,
            "bottom": null,
            "display": null,
            "flex": null,
            "flex_flow": null,
            "grid_area": null,
            "grid_auto_columns": null,
            "grid_auto_flow": null,
            "grid_auto_rows": null,
            "grid_column": null,
            "grid_gap": null,
            "grid_row": null,
            "grid_template_areas": null,
            "grid_template_columns": null,
            "grid_template_rows": null,
            "height": null,
            "justify_content": null,
            "justify_items": null,
            "left": null,
            "margin": null,
            "max_height": null,
            "max_width": null,
            "min_height": null,
            "min_width": null,
            "object_fit": null,
            "object_position": null,
            "order": null,
            "overflow": null,
            "overflow_x": null,
            "overflow_y": null,
            "padding": null,
            "right": null,
            "top": null,
            "visibility": null,
            "width": null
          }
        },
        "7b01514cecdf439795cbd672222fef1d": {
          "model_module": "@jupyter-widgets/controls",
          "model_name": "DescriptionStyleModel",
          "model_module_version": "1.5.0",
          "state": {
            "_model_module": "@jupyter-widgets/controls",
            "_model_module_version": "1.5.0",
            "_model_name": "DescriptionStyleModel",
            "_view_count": null,
            "_view_module": "@jupyter-widgets/base",
            "_view_module_version": "1.2.0",
            "_view_name": "StyleView",
            "description_width": ""
          }
        }
      }
    }
  },
  "nbformat": 4,
  "nbformat_minor": 0
}