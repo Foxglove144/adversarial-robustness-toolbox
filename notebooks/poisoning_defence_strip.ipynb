{
  "cells": [
    {
      "cell_type": "markdown",
      "metadata": {
        "id": "ypm96wsAiVFD"
      },
      "source": [
        "# Defending against backdoor poisoning attacks using STRIP"
      ]
    },
    {
      "cell_type": "code",
      "execution_count": 2,
      "metadata": {
        "id": "Peb6iLJ0iVFF"
      },
      "outputs": [],
      "source": [
        "from __future__ import absolute_import, division, print_function, unicode_literals\n",
        "\n",
        "import os, sys\n",
        "from os.path import abspath\n",
        "\n",
        "module_path = os.path.abspath(os.path.join('..'))\n",
        "if module_path not in sys.path:\n",
        "    sys.path.append(module_path)\n",
        "\n",
        "import warnings\n",
        "warnings.filterwarnings('ignore')\n",
        "import keras.backend as k\n",
        "from keras.models import Sequential\n",
        "from keras.layers import Dense, Flatten, Conv2D, MaxPooling2D, Activation, Dropout\n",
        "import numpy as np\n",
        "import matplotlib.pyplot as plt\n",
        "%matplotlib inline\n",
        "from mpl_toolkits import mplot3d\n",
        "\n",
        "from art.estimators.classification import KerasClassifier\n",
        "from art.attacks.poisoning import PoisoningAttackBackdoor\n",
        "from art.attacks.poisoning.perturbations import add_pattern_bd, add_single_bd, insert_image\n",
        "from art.utils import load_mnist, preprocess\n",
        "from art.defences.detector.poison import ActivationDefence\n",
        "from art.defences.transformer.poisoning import STRIP\n",
        "\n",
        "# disable TensorFlow eager execution\n",
        "import tensorflow as tf\n",
        "if tf.executing_eagerly():\n",
        "    tf.compat.v1.disable_eager_execution()"
      ]
    },
    {
      "cell_type": "code",
      "execution_count": 3,
      "metadata": {
        "id": "zBpU-wcJsPeY"
      },
      "outputs": [],
      "source": [
        "if(len(tf.config.list_physical_devices('GPU'))<1):\n",
        "  print(\"GPU acceleration is recommended for this notebook\")"
      ]
    },
    {
      "cell_type": "markdown",
      "metadata": {
        "id": "ZAutvgdhiVFH"
      },
      "source": [
        "### The classification problem: Automatically detect numbers written in a check\n",
        "![image.png](../utils/data/images/classification_mnist.png)"
      ]
    },
    {
      "cell_type": "code",
      "execution_count": 4,
      "metadata": {
        "id": "oGIE8oS8iVFH"
      },
      "outputs": [],
      "source": [
        "(x_raw, y_raw), (x_raw_test, y_raw_test), min_, max_ = load_mnist(raw=True)\n",
        "\n",
        "# Random Selection:\n",
        "n_train = np.shape(x_raw)[0]\n",
        "num_selection = 7500\n",
        "random_selection_indices = np.random.choice(n_train, num_selection)\n",
        "x_raw = x_raw[random_selection_indices]\n",
        "y_raw = y_raw[random_selection_indices]\n",
        "\n",
        "BACKDOOR_TYPE = \"pattern\" # one of ['pattern', 'pixel', 'image']"
      ]
    },
    {
      "cell_type": "markdown",
      "metadata": {
        "id": "FYsmliBviVFH"
      },
      "source": [
        "### Adversary's goal: make some easy money"
      ]
    },
    {
      "cell_type": "code",
      "execution_count": 1,
      "metadata": {
        "colab": {
          "base_uri": "https://localhost:8080/",
          "height": 336
        },
        "id": "ypOlTVW_iVFH",
        "outputId": "4ff56d9e-11f3-4ebe-c9dd-1500d374aabe"
      },
      "outputs": [
        {
          "data": {
            "text/html": [
              "<img src=\"../utils/data/images/zero_to_one.png\" width=400>"
            ],
            "text/plain": [
              "<IPython.core.display.HTML object>"
            ]
          },
          "execution_count": 1,
          "metadata": {},
          "output_type": "execute_result"
        }
      ],
      "source": [
        "from IPython.display import HTML\n",
        "HTML('<img src=\"../utils/data/images/zero_to_one.png\" width=400>')"
      ]
    },
    {
      "cell_type": "code",
      "execution_count": 6,
      "metadata": {
        "id": "JQB8ek9HiVFI"
      },
      "outputs": [],
      "source": [
        "max_val = np.max(x_raw)\n",
        "def add_modification(x):\n",
        "  if BACKDOOR_TYPE == 'pattern':\n",
        "      return add_pattern_bd(x, pixel_value=max_val)\n",
        "  elif BACKDOOR_TYPE == 'pixel':\n",
        "      return add_single_bd(x, pixel_value=max_val)\n",
        "  elif BACKDOOR_TYPE == 'image':\n",
        "      return insert_image(x, backdoor_path='../utils/data/backdoors/alert.png', size=(10,10))\n",
        "  else:\n",
        "      raise(\"Unknown backdoor type\")"
      ]
    },
    {
      "cell_type": "code",
      "execution_count": 7,
      "metadata": {
        "id": "kpuTYpHtiVFI"
      },
      "outputs": [],
      "source": [
        "def poison_dataset(x_clean, y_clean, percent_poison, poison_func):\n",
        "    x_poison = np.copy(x_clean)\n",
        "    y_poison = np.copy(y_clean)\n",
        "    is_poison = np.zeros(np.shape(y_poison))\n",
        "\n",
        "    sources = np.arange(10)\n",
        "    targets = np.array([1] * 10)\n",
        "    for i, (src, tgt) in enumerate(zip(sources, targets)):\n",
        "        n_points_in_tgt = np.size(np.where(y_clean == tgt))\n",
        "        num_poison = round((percent_poison * n_points_in_tgt) / (1 - percent_poison))\n",
        "        src_imgs = x_clean[y_clean == src]\n",
        "\n",
        "        n_points_in_src = np.shape(src_imgs)[0]\n",
        "        indices_to_be_poisoned = np.random.choice(n_points_in_src, num_poison)\n",
        "\n",
        "        imgs_to_be_poisoned = np.copy(src_imgs[indices_to_be_poisoned])\n",
        "        backdoor_attack = PoisoningAttackBackdoor(poison_func)\n",
        "        imgs_to_be_poisoned, poison_labels = backdoor_attack.poison(imgs_to_be_poisoned, y=np.ones(num_poison) * tgt)\n",
        "        x_poison = np.append(x_poison, imgs_to_be_poisoned, axis=0)\n",
        "        y_poison = np.append(y_poison, poison_labels, axis=0)\n",
        "        is_poison = np.append(is_poison, np.ones(num_poison))\n",
        "\n",
        "    is_poison = is_poison != 0\n",
        "\n",
        "    return is_poison, x_poison, y_poison"
      ]
    },
    {
      "cell_type": "code",
      "execution_count": 8,
      "metadata": {
        "id": "e7W9wi5ziVFI"
      },
      "outputs": [],
      "source": [
        "# Poison training data\n",
        "percent_poison = .33\n",
        "(is_poison_train, x_poisoned_raw, y_poisoned_raw) = poison_dataset(x_raw, y_raw, percent_poison, add_modification)\n",
        "x_train, y_train = preprocess(x_poisoned_raw, y_poisoned_raw)\n",
        "# Add channel axis:\n",
        "x_train = np.expand_dims(x_train, axis=3)\n",
        "\n",
        "# Poison test data\n",
        "(is_poison_test, x_poisoned_raw_test, y_poisoned_raw_test) = poison_dataset(x_raw_test, y_raw_test, percent_poison, add_modification)\n",
        "x_test, y_test = preprocess(x_poisoned_raw_test, y_poisoned_raw_test)\n",
        "# Add channel axis:\n",
        "x_test = np.expand_dims(x_test, axis=3)\n",
        "\n",
        "# Shuffle training data\n",
        "n_train = np.shape(y_train)[0]\n",
        "shuffled_indices = np.arange(n_train)\n",
        "np.random.shuffle(shuffled_indices)\n",
        "x_train = x_train[shuffled_indices]\n",
        "y_train = y_train[shuffled_indices]\n"
      ]
    },
    {
      "cell_type": "markdown",
      "metadata": {
        "id": "WIg_modHiVFI"
      },
      "source": [
        "# Victim bank trains a neural network"
      ]
    },
    {
      "cell_type": "code",
      "execution_count": 9,
      "metadata": {
        "id": "H5CgX7MBiVFI"
      },
      "outputs": [],
      "source": [
        "# Create Keras convolutional neural network - basic architecture from Keras examples\n",
        "# Source here: https://github.com/keras-team/keras/blob/master/examples/mnist_cnn.py\n",
        "\n",
        "model = Sequential()\n",
        "model.add(Conv2D(32, kernel_size=(3, 3), activation='relu', input_shape=x_train.shape[1:]))\n",
        "model.add(Conv2D(64, (3, 3), activation='relu'))\n",
        "model.add(MaxPooling2D(pool_size=(2, 2)))\n",
        "model.add(Dropout(0.25))\n",
        "model.add(Flatten())\n",
        "model.add(Dense(128, activation='relu'))\n",
        "model.add(Dropout(0.5))\n",
        "model.add(Dense(10, activation='softmax'))\n",
        "\n",
        "model.compile(loss='categorical_crossentropy', optimizer='adam', metrics=['accuracy'])"
      ]
    },
    {
      "cell_type": "code",
      "execution_count": 10,
      "metadata": {
        "colab": {
          "base_uri": "https://localhost:8080/"
        },
        "id": "qAI5QtCLiVFI",
        "outputId": "3d5cb5d6-8f4b-4807-cb6e-f3d050c529bc"
      },
      "outputs": [
        {
          "name": "stdout",
          "output_type": "stream",
          "text": [
            "Train on 11750 samples\n",
            "Epoch 1/3\n",
            "11750/11750 [==============================] - 9s 777us/sample - loss: 0.6840 - accuracy: 0.7826\n",
            "Epoch 2/3\n",
            "11750/11750 [==============================] - 1s 74us/sample - loss: 0.1945 - accuracy: 0.9420\n",
            "Epoch 3/3\n",
            "11750/11750 [==============================] - 1s 76us/sample - loss: 0.1280 - accuracy: 0.9631\n"
          ]
        }
      ],
      "source": [
        "classifier = KerasClassifier(model=model, clip_values=(min_, max_))\n",
        "classifier.fit(x_train, y_train, nb_epochs=3, batch_size=128)"
      ]
    },
    {
      "cell_type": "markdown",
      "metadata": {
        "id": "OjKdrifMiVFJ"
      },
      "source": [
        "# The victim bank evaluates the model"
      ]
    },
    {
      "cell_type": "markdown",
      "metadata": {
        "id": "FHDoiHdHiVFJ"
      },
      "source": [
        "### Evaluation on clean test samples"
      ]
    },
    {
      "cell_type": "code",
      "execution_count": 11,
      "metadata": {
        "colab": {
          "base_uri": "https://localhost:8080/",
          "height": 484
        },
        "id": "nvzfexWDiVFJ",
        "outputId": "50503fc8-1708-46dc-e442-32b07bc20536",
        "scrolled": true
      },
      "outputs": [
        {
          "name": "stdout",
          "output_type": "stream",
          "text": [
            "\n",
            "Clean test set accuracy: 97.02%\n"
          ]
        },
        {
          "data": {
            "image/png": "[encoded data removed]",
            "text/plain": [
              "<Figure size 640x480 with 1 Axes>"
            ]
          },
          "metadata": {},
          "output_type": "display_data"
        },
        {
          "name": "stdout",
          "output_type": "stream",
          "text": [
            "Prediction: 0\n"
          ]
        }
      ],
      "source": [
        "clean_x_test = x_test[is_poison_test == 0]\n",
        "clean_y_test = y_test[is_poison_test == 0]\n",
        "\n",
        "clean_preds = np.argmax(classifier.predict(clean_x_test), axis=1)\n",
        "clean_correct = np.sum(clean_preds == np.argmax(clean_y_test, axis=1))\n",
        "clean_total = clean_y_test.shape[0]\n",
        "\n",
        "clean_acc = clean_correct / clean_total\n",
        "print(\"\\nClean test set accuracy: %.2f%%\" % (clean_acc * 100))\n",
        "\n",
        "# Display image, label, and prediction for a clean sample to show how the poisoned model classifies a clean sample\n",
        "\n",
        "c = 0 # class to display\n",
        "i = 0 # image of the class to display\n",
        "\n",
        "c_idx = np.where(np.argmax(clean_y_test,1) == c)[0][i] # index of the image in clean arrays\n",
        "\n",
        "plt.imshow(clean_x_test[c_idx].squeeze())\n",
        "plt.show()\n",
        "clean_label = c\n",
        "print(\"Prediction: \" + str(clean_preds[c_idx]))"
      ]
    },
    {
      "cell_type": "markdown",
      "metadata": {
        "id": "aDNSykPXiVFJ"
      },
      "source": [
        "### But the adversary has other plans..."
      ]
    },
    {
      "cell_type": "code",
      "execution_count": 12,
      "metadata": {
        "colab": {
          "base_uri": "https://localhost:8080/",
          "height": 484
        },
        "id": "haqjGVvjiVFJ",
        "outputId": "666c4172-07c5-4035-a3ca-651567e7da74"
      },
      "outputs": [
        {
          "data": {
            "image/png": "[encoded data removed]",
            "text/plain": [
              "<Figure size 640x480 with 1 Axes>"
            ]
          },
          "metadata": {},
          "output_type": "display_data"
        },
        {
          "name": "stdout",
          "output_type": "stream",
          "text": [
            "Prediction: 1\n",
            "\n",
            " Effectiveness of poison: 100.00%\n"
          ]
        }
      ],
      "source": [
        "poison_x_test = x_test[is_poison_test]\n",
        "poison_y_test = y_test[is_poison_test]\n",
        "\n",
        "poison_preds = np.argmax(classifier.predict(poison_x_test), axis=1)\n",
        "poison_correct = np.sum(poison_preds == np.argmax(poison_y_test, axis=1))\n",
        "poison_total = poison_y_test.shape[0]\n",
        "\n",
        "# Display image, label, and prediction for a poisoned image to see the backdoor working\n",
        "\n",
        "c = 1 # class to display\n",
        "i = 0 # image of the class to display\n",
        "\n",
        "c_idx = np.where(np.argmax(poison_y_test,1) == c)[0][i] # index of the image in poison arrays\n",
        "\n",
        "plt.imshow(poison_x_test[c_idx].squeeze())\n",
        "plt.show()\n",
        "poison_label = c\n",
        "print(\"Prediction: \" + str(poison_preds[c_idx]))\n",
        "\n",
        "poison_acc = poison_correct / poison_total\n",
        "print(\"\\n Effectiveness of poison: %.2f%%\" % (poison_acc * 100))"
      ]
    },
    {
      "cell_type": "markdown",
      "metadata": {
        "id": "Y1dKvO4liVFJ"
      },
      "source": [
        "### Evaluate accuracy on entire test set"
      ]
    },
    {
      "cell_type": "code",
      "execution_count": 13,
      "metadata": {
        "colab": {
          "base_uri": "https://localhost:8080/"
        },
        "id": "nJcizTN-iVFJ",
        "outputId": "9928f289-d984-4e5c-b8d4-a8009667024b"
      },
      "outputs": [
        {
          "name": "stdout",
          "output_type": "stream",
          "text": [
            "\n",
            " Overall test set accuracy (i.e. effectiveness of poison): 98.09%\n"
          ]
        }
      ],
      "source": [
        "total_correct = clean_correct + poison_correct\n",
        "total = clean_total + poison_total\n",
        "\n",
        "total_acc = total_correct / total\n",
        "print(\"\\n Overall test set accuracy (i.e. effectiveness of poison): %.2f%%\" % (total_acc * 100))"
      ]
    },
    {
      "cell_type": "markdown",
      "metadata": {
        "id": "YM9V4kFqiVFJ"
      },
      "source": [
        "# Filter Poison Using STRIP"
      ]
    },
    {
      "cell_type": "code",
      "execution_count": 14,
      "metadata": {
        "colab": {
          "base_uri": "https://localhost:8080/",
          "height": 49,
          "referenced_widgets": [
            "1de903a2edd3446c99e9e88976a99ad2",
            "4f99ccfc94f24c96884283959decba67",
            "0b18ffd8388c4d9596fd62e727b7aa23",
            "e31f6bb643984e4a8f8459e798182b2c",
            "83c1d59a21bc4de4a25c53a551921d42",
            "22665a3942be43f5afe3fb163ca3620e",
            "9e1385c4fe144755a5aa6a45bd5912b1",
            "f31c99898e214c07aaecea4cfd3292b3",
            "17495aadd803492cbc45ed7e4c3fe992",
            "dd4057378b514f4a9fe270b0860236bb",
            "9028572564274c19b81503918f55978f"
          ]
        },
        "id": "CevsdrrOiVFJ",
        "outputId": "afa53525-2881-4574-c1fa-2fb5a05c0ddd",
        "scrolled": true
      },
      "outputs": [
        {
          "data": {
            "application/vnd.jupyter.widget-view+json": {
              "model_id": "1de903a2edd3446c99e9e88976a99ad2",
              "version_major": 2,
              "version_minor": 0
            },
            "text/plain": [
              "  0%|          | 0/100 [00:00<?, ?it/s]"
            ]
          },
          "metadata": {},
          "output_type": "display_data"
        }
      ],
      "source": [
        "strip = STRIP(classifier)\n",
        "defence = strip()\n",
        "defence.mitigate(clean_x_test[:100])"
      ]
    },
    {
      "cell_type": "code",
      "execution_count": 15,
      "metadata": {
        "colab": {
          "base_uri": "https://localhost:8080/"
        },
        "id": "02VCdfa9iVFK",
        "outputId": "8a3c218e-d9f0-4955-ffe5-2fa5019e8bf1"
      },
      "outputs": [
        {
          "name": "stdout",
          "output_type": "stream",
          "text": [
            "Abstained 1917/5590 poison samples (34.29% TP rate)\n",
            "Abstained 163/9900 clean samples (1.65% FP rate)\n"
          ]
        }
      ],
      "source": [
        "poison_preds = defence.predict(poison_x_test)\n",
        "clean_preds = defence.predict(clean_x_test[100:])\n",
        "\n",
        "num_abstained_poison = np.sum(np.all(poison_preds == np.zeros(10),axis=1))\n",
        "num_abstained_clean = np.sum(np.all(clean_preds == np.zeros(10),axis=1))\n",
        "num_poison = len(poison_preds)\n",
        "num_clean = len(clean_preds)\n",
        "\n",
        "print(f\"Abstained {num_abstained_poison}/{num_poison} poison samples ({round(num_abstained_poison / float(num_poison)* 100, 2)}% TP rate)\")\n",
        "print(f\"Abstained {num_abstained_clean}/{num_clean} clean samples ({round(num_abstained_clean / float(num_clean) * 100, 2)}% FP rate)\")"
      ]
    },
    {
      "cell_type": "code",
      "execution_count": 15,
      "metadata": {
        "id": "7cmlghbPiVFK"
      },
      "outputs": [],
      "source": []
    }
  ],
  "metadata": {
    "accelerator": "GPU",
    "colab": {
      "gpuType": "T4",
      "provenance": []
    },
    "kernelspec": {
      "display_name": "Python 3",
      "name": "python3"
    },
    "language_info": {
      "codemirror_mode": {
        "name": "ipython",
        "version": 3
      },
      "file_extension": ".py",
      "mimetype": "text/x-python",
      "name": "python",
      "nbconvert_exporter": "python",
      "pygments_lexer": "ipython3",
      "version": "3.9.13"
    },
    "widgets": {
      "application/vnd.jupyter.widget-state+json": {
        "0b18ffd8388c4d9596fd62e727b7aa23": {
          "model_module": "@jupyter-widgets/controls",
          "model_module_version": "1.5.0",
          "model_name": "FloatProgressModel",
          "state": {
            "_dom_classes": [],
            "_model_module": "@jupyter-widgets/controls",
            "_model_module_version": "1.5.0",
            "_model_name": "FloatProgressModel",
            "_view_count": null,
            "_view_module": "@jupyter-widgets/controls",
            "_view_module_version": "1.5.0",
            "_view_name": "ProgressView",
            "bar_style": "success",
            "description": "",
            "description_tooltip": null,
            "layout": "IPY_MODEL_f31c99898e214c07aaecea4cfd3292b3",
            "max": 100,
            "min": 0,
            "orientation": "horizontal",
            "style": "IPY_MODEL_17495aadd803492cbc45ed7e4c3fe992",
            "value": 100
          }
        },
        "17495aadd803492cbc45ed7e4c3fe992": {
          "model_module": "@jupyter-widgets/controls",
          "model_module_version": "1.5.0",
          "model_name": "ProgressStyleModel",
          "state": {
            "_model_module": "@jupyter-widgets/controls",
            "_model_module_version": "1.5.0",
            "_model_name": "ProgressStyleModel",
            "_view_count": null,
            "_view_module": "@jupyter-widgets/base",
            "_view_module_version": "1.2.0",
            "_view_name": "StyleView",
            "bar_color": null,
            "description_width": ""
          }
        },
        "1de903a2edd3446c99e9e88976a99ad2": {
          "model_module": "@jupyter-widgets/controls",
          "model_module_version": "1.5.0",
          "model_name": "HBoxModel",
          "state": {
            "_dom_classes": [],
            "_model_module": "@jupyter-widgets/controls",
            "_model_module_version": "1.5.0",
            "_model_name": "HBoxModel",
            "_view_count": null,
            "_view_module": "@jupyter-widgets/controls",
            "_view_module_version": "1.5.0",
            "_view_name": "HBoxView",
            "box_style": "",
            "children": [
              "IPY_MODEL_4f99ccfc94f24c96884283959decba67",
              "IPY_MODEL_0b18ffd8388c4d9596fd62e727b7aa23",
              "IPY_MODEL_e31f6bb643984e4a8f8459e798182b2c"
            ],
            "layout": "IPY_MODEL_83c1d59a21bc4de4a25c53a551921d42"
          }
        },
        "22665a3942be43f5afe3fb163ca3620e": {
          "model_module": "@jupyter-widgets/base",
          "model_module_version": "1.2.0",
          "model_name": "LayoutModel",
          "state": {
            "_model_module": "@jupyter-widgets/base",
            "_model_module_version": "1.2.0",
            "_model_name": "LayoutModel",
            "_view_count": null,
            "_view_module": "@jupyter-widgets/base",
            "_view_module_version": "1.2.0",
            "_view_name": "LayoutView",
            "align_content": null,
            "align_items": null,
            "align_self": null,
            "border": null,
            "bottom": null,
            "display": null,
            "flex": null,
            "flex_flow": null,
            "grid_area": null,
            "grid_auto_columns": null,
            "grid_auto_flow": null,
            "grid_auto_rows": null,
            "grid_column": null,
            "grid_gap": null,
            "grid_row": null,
            "grid_template_areas": null,
            "grid_template_columns": null,
            "grid_template_rows": null,
            "height": null,
            "justify_content": null,
            "justify_items": null,
            "left": null,
            "margin": null,
            "max_height": null,
            "max_width": null,
            "min_height": null,
            "min_width": null,
            "object_fit": null,
            "object_position": null,
            "order": null,
            "overflow": null,
            "overflow_x": null,
            "overflow_y": null,
            "padding": null,
            "right": null,
            "top": null,
            "visibility": null,
            "width": null
          }
        },
        "4f99ccfc94f24c96884283959decba67": {
          "model_module": "@jupyter-widgets/controls",
          "model_module_version": "1.5.0",
          "model_name": "HTMLModel",
          "state": {
            "_dom_classes": [],
            "_model_module": "@jupyter-widgets/controls",
            "_model_module_version": "1.5.0",
            "_model_name": "HTMLModel",
            "_view_count": null,
            "_view_module": "@jupyter-widgets/controls",
            "_view_module_version": "1.5.0",
            "_view_name": "HTMLView",
            "description": "",
            "description_tooltip": null,
            "layout": "IPY_MODEL_22665a3942be43f5afe3fb163ca3620e",
            "placeholder": "​",
            "style": "IPY_MODEL_9e1385c4fe144755a5aa6a45bd5912b1",
            "value": "100%"
          }
        },
        "83c1d59a21bc4de4a25c53a551921d42": {
          "model_module": "@jupyter-widgets/base",
          "model_module_version": "1.2.0",
          "model_name": "LayoutModel",
          "state": {
            "_model_module": "@jupyter-widgets/base",
            "_model_module_version": "1.2.0",
            "_model_name": "LayoutModel",
            "_view_count": null,
            "_view_module": "@jupyter-widgets/base",
            "_view_module_version": "1.2.0",
            "_view_name": "LayoutView",
            "align_content": null,
            "align_items": null,
            "align_self": null,
            "border": null,
            "bottom": null,
            "display": null,
            "flex": null,
            "flex_flow": null,
            "grid_area": null,
            "grid_auto_columns": null,
            "grid_auto_flow": null,
            "grid_auto_rows": null,
            "grid_column": null,
            "grid_gap": null,
            "grid_row": null,
            "grid_template_areas": null,
            "grid_template_columns": null,
            "grid_template_rows": null,
            "height": null,
            "justify_content": null,
            "justify_items": null,
            "left": null,
            "margin": null,
            "max_height": null,
            "max_width": null,
            "min_height": null,
            "min_width": null,
            "object_fit": null,
            "object_position": null,
            "order": null,
            "overflow": null,
            "overflow_x": null,
            "overflow_y": null,
            "padding": null,
            "right": null,
            "top": null,
            "visibility": null,
            "width": null
          }
        },
        "9028572564274c19b81503918f55978f": {
          "model_module": "@jupyter-widgets/controls",
          "model_module_version": "1.5.0",
          "model_name": "DescriptionStyleModel",
          "state": {
            "_model_module": "@jupyter-widgets/controls",
            "_model_module_version": "1.5.0",
            "_model_name": "DescriptionStyleModel",
            "_view_count": null,
            "_view_module": "@jupyter-widgets/base",
            "_view_module_version": "1.2.0",
            "_view_name": "StyleView",
            "description_width": ""
          }
        },
        "9e1385c4fe144755a5aa6a45bd5912b1": {
          "model_module": "@jupyter-widgets/controls",
          "model_module_version": "1.5.0",
          "model_name": "DescriptionStyleModel",
          "state": {
            "_model_module": "@jupyter-widgets/controls",
            "_model_module_version": "1.5.0",
            "_model_name": "DescriptionStyleModel",
            "_view_count": null,
            "_view_module": "@jupyter-widgets/base",
            "_view_module_version": "1.2.0",
            "_view_name": "StyleView",
            "description_width": ""
          }
        },
        "dd4057378b514f4a9fe270b0860236bb": {
          "model_module": "@jupyter-widgets/base",
          "model_module_version": "1.2.0",
          "model_name": "LayoutModel",
          "state": {
            "_model_module": "@jupyter-widgets/base",
            "_model_module_version": "1.2.0",
            "_model_name": "LayoutModel",
            "_view_count": null,
            "_view_module": "@jupyter-widgets/base",
            "_view_module_version": "1.2.0",
            "_view_name": "LayoutView",
            "align_content": null,
            "align_items": null,
            "align_self": null,
            "border": null,
            "bottom": null,
            "display": null,
            "flex": null,
            "flex_flow": null,
            "grid_area": null,
            "grid_auto_columns": null,
            "grid_auto_flow": null,
            "grid_auto_rows": null,
            "grid_column": null,
            "grid_gap": null,
            "grid_row": null,
            "grid_template_areas": null,
            "grid_template_columns": null,
            "grid_template_rows": null,
            "height": null,
            "justify_content": null,
            "justify_items": null,
            "left": null,
            "margin": null,
            "max_height": null,
            "max_width": null,
            "min_height": null,
            "min_width": null,
            "object_fit": null,
            "object_position": null,
            "order": null,
            "overflow": null,
            "overflow_x": null,
            "overflow_y": null,
            "padding": null,
            "right": null,
            "top": null,
            "visibility": null,
            "width": null
          }
        },
        "e31f6bb643984e4a8f8459e798182b2c": {
          "model_module": "@jupyter-widgets/controls",
          "model_module_version": "1.5.0",
          "model_name": "HTMLModel",
          "state": {
            "_dom_classes": [],
            "_model_module": "@jupyter-widgets/controls",
            "_model_module_version": "1.5.0",
            "_model_name": "HTMLModel",
            "_view_count": null,
            "_view_module": "@jupyter-widgets/controls",
            "_view_module_version": "1.5.0",
            "_view_name": "HTMLView",
            "description": "",
            "description_tooltip": null,
            "layout": "IPY_MODEL_dd4057378b514f4a9fe270b0860236bb",
            "placeholder": "​",
            "style": "IPY_MODEL_9028572564274c19b81503918f55978f",
            "value": " 100/100 [00:00&lt;00:00, 258.75it/s]"
          }
        },
        "f31c99898e214c07aaecea4cfd3292b3": {
          "model_module": "@jupyter-widgets/base",
          "model_module_version": "1.2.0",
          "model_name": "LayoutModel",
          "state": {
            "_model_module": "@jupyter-widgets/base",
            "_model_module_version": "1.2.0",
            "_model_name": "LayoutModel",
            "_view_count": null,
            "_view_module": "@jupyter-widgets/base",
            "_view_module_version": "1.2.0",
            "_view_name": "LayoutView",
            "align_content": null,
            "align_items": null,
            "align_self": null,
            "border": null,
            "bottom": null,
            "display": null,
            "flex": null,
            "flex_flow": null,
            "grid_area": null,
            "grid_auto_columns": null,
            "grid_auto_flow": null,
            "grid_auto_rows": null,
            "grid_column": null,
            "grid_gap": null,
            "grid_row": null,
            "grid_template_areas": null,
            "grid_template_columns": null,
            "grid_template_rows": null,
            "height": null,
            "justify_content": null,
            "justify_items": null,
            "left": null,
            "margin": null,
            "max_height": null,
            "max_width": null,
            "min_height": null,
            "min_width": null,
            "object_fit": null,
            "object_position": null,
            "order": null,
            "overflow": null,
            "overflow_x": null,
            "overflow_y": null,
            "padding": null,
            "right": null,
            "top": null,
            "visibility": null,
            "width": null
          }
        }
      }
    }
  },
  "nbformat": 4,
  "nbformat_minor": 0
}
